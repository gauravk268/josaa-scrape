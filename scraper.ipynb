{
 "cells": [
  {
   "cell_type": "markdown",
   "metadata": {},
   "source": [
    "# JOSAA-scrape\n",
    "A python script to scrape the JOSAA OR/CR page at the [JOSAA Result Archieve](https://josaa.nic.in/Result/Result/OpeningClosingRankArchieve.aspx).\n",
    "\n",
    "Uses `requests`, `BeautifulSoup` and `pandas`\n",
    "\n",
    "I do not own this data, nor am I liable for any consequences of its usage."
   ]
  },
  {
   "cell_type": "code",
   "execution_count": 1,
   "metadata": {},
   "outputs": [],
   "source": [
    "import requests\n",
    "from bs4 import BeautifulSoup\n",
    "import pandas as pd"
   ]
  },
  {
   "cell_type": "markdown",
   "metadata": {},
   "source": [
    "`params` is a dictionary containing params info from DevTools > Network > Params\n",
    "\n",
    "It is an ASP .NET powered form, so a `__VIEWSTATE` and `__EVENTVALIDATION` are assigned to every session. Every dropdown selection adds some encoded info to these parameters, so it is not possible to send them all at once.\n",
    "\n",
    "We can get these values from the hidden `__VIEWSTATE` and similar inputs on the page after every POST request.\n",
    "\n",
    "The `josaa_scrape()` function return a pandas dataframe containing the year and round specific OR/CR.\n",
    "\n",
    "`pandas` converts the OR/CR to `float`s, so I typecast them back as `int`s.\n",
    "\n",
    "2016 only had 6 rounds for some reason, so the ugly adjustments were required in `years` and `rounds`."
   ]
  },
  {
   "cell_type": "code",
   "execution_count": 2,
   "metadata": {},
   "outputs": [],
   "source": [
    "old_year_url = 'https://josaa.admissions.nic.in/applicant/seatmatrix/openingclosingrankarchieve.aspx'\n",
    "curr_year_url = 'https://josaa.admissions.nic.in/applicant/SeatAllotmentResult/CurrentORCR.aspx'\n",
    "\n",
    "params = {\n",
    "    \"ctl00$ContentPlaceHolder1$ddlInstype\": \"ALL\",\n",
    "    \"ctl00$ContentPlaceHolder1$ddlInstitute\": \"ALL\",\n",
    "    \"ctl00$ContentPlaceHolder1$ddlBranch\": \"ALL\",\n",
    "    \"ctl00$ContentPlaceHolder1$ddlSeattype\": \"ALL\",\n",
    "    \"ctl00$ContentPlaceHolder1$btnSubmit\": \"Submit\"\n",
    "}"
   ]
  },
  {
   "cell_type": "code",
   "execution_count": 3,
   "metadata": {},
   "outputs": [],
   "source": [
    "years = [\n",
    "    \"2024\"\n",
    "    # \"2023\",\n",
    "    # \"2022\",\n",
    "    # \"2021\"\n",
    "    # \"2018\",\n",
    "    # \"2017\",\n",
    "    # \"2016\"\n",
    "]\n",
    "\n",
    "rounds = [\n",
    "    \"1\",\n",
    "    \"2\",\n",
    "    \"3\",\n",
    "    \"4\",\n",
    "    \"5\",\n",
    "    # \"6\",\n",
    "    # \"7\"\n",
    "]"
   ]
  },
  {
   "cell_type": "code",
   "execution_count": 4,
   "metadata": {},
   "outputs": [],
   "source": [
    "def josaa_scrape(year, round, isCurrYear):\n",
    "    \"\"\"\n",
    "    Sample usage: df = josaa_scrape(\"2024\", \"1\", True)\n",
    "    Sample usage: df = josaa_scrape(\"2023\", \"1\", False)\n",
    "    df.info()\n",
    "    \"\"\"\n",
    "    with requests.Session() as s:\n",
    "        url = curr_year_url if isCurrYear else old_year_url\n",
    "        R = s.get(url)\n",
    "        data = {}\n",
    "\n",
    "        if not isCurrYear:\n",
    "            data.update({tag['name']: tag['value'] for tag in BeautifulSoup(R.content, 'lxml').select('input[name^=__]')})\n",
    "            data[\"ctl00$ContentPlaceHolder1$ddlYear\"] = year\n",
    "            R = s.post(url, data=data)\n",
    "\n",
    "        data.update({tag['name']: tag['value'] for tag in BeautifulSoup(R.content, 'lxml').select('input[name^=__]')})\n",
    "        data[\"ctl00$ContentPlaceHolder1$ddlroundno\"] = round\n",
    "        R = s.post(url, data=data)\n",
    "\n",
    "        for key, value in params.items():\n",
    "            data.update({tag['name']: tag['value'] for tag in BeautifulSoup(R.content, 'lxml').select('input[name^=__]')})\n",
    "            data[key] = value\n",
    "            R = s.post(url, data=data)\n",
    "\n",
    "    table = BeautifulSoup(R.text, 'lxml').find(id='ctl00_ContentPlaceHolder1_GridView1')\n",
    "    df = pd.read_html(table.prettify())[0]\n",
    "    df.dropna(inplace=True, how=\"all\")\n",
    "\n",
    "    df[\"Year\"] = year\n",
    "    df[\"Round\"] = round\n",
    "    # code commented because PwD rank contains P at end, e.g. 150P\n",
    "    # df['Opening Rank'] = df['Opening Rank'].astype(int) \n",
    "    # df['Closing Rank'] = df['Closing Rank'].astype(int)\n",
    "    df['Opening Rank'] = df['Opening Rank']\n",
    "    df['Closing Rank'] = df['Closing Rank']\n",
    "\n",
    "    return df"
   ]
  },
  {
   "cell_type": "code",
   "execution_count": 5,
   "metadata": {},
   "outputs": [
    {
     "name": "stdout",
     "output_type": "stream",
     "text": [
      "3 2024\n"
     ]
    },
    {
     "name": "stderr",
     "output_type": "stream",
     "text": [
      "/tmp/ipykernel_84553/1908411863.py:27: FutureWarning: Passing literal html to 'read_html' is deprecated and will be removed in a future version. To read from a literal string, wrap it in a 'StringIO' object.\n",
      "  df = pd.read_html(table.prettify())[0]\n"
     ]
    },
    {
     "name": "stdout",
     "output_type": "stream",
     "text": [
      "(11307, 9)\n",
      "4 2024\n"
     ]
    },
    {
     "name": "stderr",
     "output_type": "stream",
     "text": [
      "/tmp/ipykernel_84553/1908411863.py:27: FutureWarning: Passing literal html to 'read_html' is deprecated and will be removed in a future version. To read from a literal string, wrap it in a 'StringIO' object.\n",
      "  df = pd.read_html(table.prettify())[0]\n"
     ]
    },
    {
     "name": "stdout",
     "output_type": "stream",
     "text": [
      "(11281, 9)\n",
      "5 2024\n"
     ]
    },
    {
     "name": "stderr",
     "output_type": "stream",
     "text": [
      "/tmp/ipykernel_84553/1908411863.py:27: FutureWarning: Passing literal html to 'read_html' is deprecated and will be removed in a future version. To read from a literal string, wrap it in a 'StringIO' object.\n",
      "  df = pd.read_html(table.prettify())[0]\n"
     ]
    },
    {
     "name": "stdout",
     "output_type": "stream",
     "text": [
      "(11261, 9)\n"
     ]
    }
   ],
   "source": [
    "for year in years:\n",
    "    for Round in rounds:\n",
    "        print(Round, year)\n",
    "        data = josaa_scrape(year, Round, True)\n",
    "        print(data.shape)\n",
    "        data.to_csv(path_or_buf= year + \"-\" + Round + \".csv\", index=False)"
   ]
  },
  {
   "cell_type": "code",
   "execution_count": null,
   "metadata": {},
   "outputs": [],
   "source": []
  }
 ],
 "metadata": {
  "kernelspec": {
   "display_name": "Python 3 (ipykernel)",
   "language": "python",
   "name": "python3"
  },
  "language_info": {
   "codemirror_mode": {
    "name": "ipython",
    "version": 3
   },
   "file_extension": ".py",
   "mimetype": "text/x-python",
   "name": "python",
   "nbconvert_exporter": "python",
   "pygments_lexer": "ipython3",
   "version": "3.12.2"
  }
 },
 "nbformat": 4,
 "nbformat_minor": 4
}
